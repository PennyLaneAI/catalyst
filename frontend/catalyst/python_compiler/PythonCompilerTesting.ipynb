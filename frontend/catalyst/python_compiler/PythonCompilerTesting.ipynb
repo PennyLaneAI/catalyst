{
 "cells": [
  {
   "cell_type": "markdown",
   "id": "8ca7846d",
   "metadata": {},
   "source": [
    "# Testing the Python Compiler"
   ]
  },
  {
   "cell_type": "markdown",
   "id": "114c1463",
   "metadata": {},
   "source": [
    "The purpose of this notebook is to test the Quantum dialect for the Python Compiler project.\n",
    "\n",
    "The idea is to have something similar to [this notebook](https://colab.research.google.com/drive/1qKRTRgxjDxYE_MDTfpqImxrx0fRhwICA#scrollTo=3GKCogPId4I8), but using the Quantum dialect generated with [xDSL](https://github.com/xdslproject/xdsl) provided in this module."
   ]
  },
  {
   "cell_type": "code",
   "execution_count": 1,
   "id": "510b5c05",
   "metadata": {},
   "outputs": [],
   "source": [
    "import pennylane as qml\n",
    "import catalyst"
   ]
  }
 ],
 "metadata": {
  "kernelspec": {
   "display_name": "PennyLane",
   "language": "python",
   "name": "python3"
  },
  "language_info": {
   "codemirror_mode": {
    "name": "ipython",
    "version": 3
   },
   "file_extension": ".py",
   "mimetype": "text/x-python",
   "name": "python",
   "nbconvert_exporter": "python",
   "pygments_lexer": "ipython3",
   "version": "3.10.16"
  }
 },
 "nbformat": 4,
 "nbformat_minor": 5
}
