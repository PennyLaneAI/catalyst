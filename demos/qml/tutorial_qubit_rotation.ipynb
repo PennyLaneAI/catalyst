{
 "cells": [
  {
   "cell_type": "code",
   "execution_count": null,
   "metadata": {},
   "outputs": [],
   "source": [
    "%pip install optax"
   ]
  },
  {
   "cell_type": "markdown",
   "metadata": {},
   "source": [
    "Qubit Rotation\n",
    "==============\n",
    "\n",
    "\n",
    ".. note::\n",
    "    This tutorial is a Catalyst adaptation of the\n",
    "    [Pennylane Qubit Rotation tutorial](https://pennylane.ai/qml/demos/tutorial_qubit_rotation.html)\n",
    "    by Josh Izaac.\n",
    "\n",
    "\n",
    "To see how to use Catalyst with PennyLane, let\\'s consider the\n",
    "\\'hello world\\' program of quantum machine learning (QML):\n",
    "<center>\n",
    "<img alt=\"bloch spheres\" src=\"https://raw.githubusercontent.com/PennyLaneAI/qml/master/_static/demonstration_assets/qubit_rotation/bloch.png\" />\n",
    "</center>\n",
    "\n",
    "The task at hand is to optimize the angle parameters of two rotation gates in order to flip a\n",
    "single qubit from state $\\left|0\\right\\rangle$ to state\n",
    "$\\left|1\\right\\rangle$.\n",
    "\n",
    "The quantum circuit\n",
    "-------------------\n",
    "\n",
    "In the qubit rotation example, we wish to implement the following\n",
    "quantum circuit:\n",
    "\n",
    "<center>\n",
    "<img alt=\"rotation circuit\" src=\"https://raw.githubusercontent.com/PennyLaneAI/qml/master/_static/demonstration_assets/qubit_rotation/rotation_circuit.png\" />\n",
    "</center>\n",
    "\n",
    "Breaking this down step-by-step, we first start with a qubit in the\n",
    "ground state $|0\\rangle = \\begin{bmatrix}1 & 0 \\end{bmatrix}^T$, and\n",
    "rotate it around the x-axis by applying the gate\n",
    "\n",
    "$$\\begin{aligned}\n",
    "R_x(\\phi_1) = e^{-i \\phi_1 \\sigma_x /2} =\n",
    "\\begin{bmatrix} \\cos \\frac{\\phi_1}{2} &  -i \\sin \\frac{\\phi_1}{2} \\\\\n",
    "-i \\sin \\frac{\\phi_1}{2} &  \\cos \\frac{\\phi_1}{2}\n",
    "\\end{bmatrix},\n",
    "\\end{aligned}$$\n",
    "\n",
    "and then around the y-axis via the gate\n",
    "\n",
    "$$\\begin{aligned}\n",
    "R_y(\\phi_2) = e^{-i \\phi_2 \\sigma_y/2} =\n",
    "\\begin{bmatrix} \\cos \\frac{\\phi_2}{2} &  - \\sin \\frac{\\phi_2}{2} \\\\\n",
    "\\sin \\frac{\\phi_2}{2} &  \\cos \\frac{\\phi_2}{2}\n",
    "\\end{bmatrix}.\n",
    "\\end{aligned}$$\n",
    "\n",
    "After these operations the qubit is now in the state\n",
    "\n",
    "$$| \\psi \\rangle = R_y(\\phi_2) R_x(\\phi_1) | 0 \\rangle.$$\n",
    "\n",
    "Finally, we measure the expectation value\n",
    "$\\langle \\psi \\mid \\sigma_z \\mid \\psi \\rangle$ of the Pauli-Z operator\n",
    "\n",
    "$$\\begin{aligned}\n",
    "\\sigma_z =\n",
    "\\begin{bmatrix} 1 &  0 \\\\\n",
    "0 & -1\n",
    "\\end{bmatrix}.\n",
    "\\end{aligned}$$\n",
    "\n",
    "Using the above to calculate the exact expectation value, we find that\n",
    "\n",
    "$$\\langle \\psi \\mid \\sigma_z \\mid \\psi \\rangle\n",
    "= \\langle 0 \\mid R_x(\\phi_1)^\\dagger R_y(\\phi_2)^\\dagger \\sigma_z  R_y(\\phi_2) R_x(\\phi_1) \\mid 0 \\rangle\n",
    "= \\cos(\\phi_1)\\cos(\\phi_2).$$\n",
    "\n",
    "Depending on the circuit parameters $\\phi_1$ and $\\phi_2$, the output\n",
    "expectation lies between $1$ (if\n",
    "$\\left|\\psi\\right\\rangle = \\left|0\\right\\rangle$) and $-1$ (if\n",
    "$\\left|\\psi\\right\\rangle = \\left|1\\right\\rangle$).\n"
   ]
  },
  {
   "cell_type": "markdown",
   "metadata": {},
   "source": [
    "Let\\'s see how we can easily implement and optimize this circuit using\n",
    "PennyLane.\n",
    "\n",
    "Importing PennyLane and Catalyst\n",
    "--------------------------------\n",
    "\n",
    "In order to use PannyLane with the Catalyst compiler, we need to import several important components:\n",
    "\n",
    "- The [PennyLane](https://pennylane.ai/) framework in order to access the base QML API,\n",
    "- The [Catalyst](../index.rst) Python package,\n",
    "- The JAX version of NumPy.\n"
   ]
  },
  {
   "cell_type": "code",
   "execution_count": 1,
   "metadata": {},
   "outputs": [],
   "source": [
    "import pennylane as qml\n",
    "from catalyst import qjit, grad\n",
    "import jax.numpy as jnp"
   ]
  },
  {
   "cell_type": "markdown",
   "metadata": {},
   "source": [
    "Creating a device\n",
    "-----------------\n",
    "\n",
    "Before we can construct our quantum node, we need to initialize a **PennyLane device**.\n",
    "\n",
    "<div class='note admonition'><p class='admonition-title'>Definition</p><p>Any computational object that can apply quantum operations and return a measurement valueis called a quantum <strong>device</strong>.</p><p>In PennyLane, a device could be a hardware device (such as the IBM QX4, via the PennyLane-PQ plugin), or a software simulator (such as Strawberry Fields, via the PennyLane-SF plugin).</p></div>\n",
    "\n",
    "Catalyst supports a subset of devices available in PennyLane. For this tutorial, we are using the qubit model, so let's initialize the `lightning.qubit` device provided by PennyLane for the [PennyLane-Lightning](https://docs.pennylane.ai/projects/lightning/) simulator."
   ]
  },
  {
   "cell_type": "code",
   "execution_count": 2,
   "metadata": {},
   "outputs": [],
   "source": [
    "dev1 = qml.device(\"lightning.qubit\", wires=1)"
   ]
  },
  {
   "cell_type": "markdown",
   "metadata": {},
   "source": [
    "Preparing the compiled quantum function\n",
    "---------------------------------------\n",
    "\n",
    "Now that we have initialized our device, we can begin to construct a\n",
    "**Quantum circuit**.\n",
    "\n",
    "\n",
    "First, we need to define the quantum function that will be evaluated in\n",
    "the circuit:"
   ]
  },
  {
   "cell_type": "code",
   "execution_count": 3,
   "metadata": {},
   "outputs": [],
   "source": [
    "def circuit(params):\n",
    "    qml.RX(params[0], wires=0)\n",
    "    qml.RY(params[1], wires=0)\n",
    "    return qml.expval(qml.PauliZ(0))"
   ]
  },
  {
   "cell_type": "markdown",
   "metadata": {},
   "source": [
    "This is a simple circuit, matching the one described above. Notice that\n",
    "the function `circuit()` is constructed as if it were any other Python\n",
    "function; it accepts a positional argument `params`, which may be a\n",
    "list, tuple, or array, and uses the individual elements for gate\n",
    "parameters.\n",
    "\n",
    "However, quantum functions are a **restricted subset** of Python\n",
    "functions. For a Python function to also be a valid quantum function,\n",
    "there are some important restrictions:\n",
    "\n",
    "-   **Quantum functions must contain quantum operations, one operation\n",
    "    per line, in the order in which they are to be applied.**\n",
    "    In addition, we must always specify the subsystem the operation\n",
    "    applies to, by passing the `wires` argument; this may be a list or\n",
    "    an integer, depending on how many wires the operation acts on.\n",
    " \n",
    " \n",
    "-   **Quantum functions must return either a single or a tuple of\n",
    "    measured observables. In Catalyst, quantum functions may also return\n",
    "    values of JAX types representing classical data.**\n",
    "    As a result, the quantum function always returns a classical\n",
    "    quantity, allowing the QNode to interface with other classical\n",
    "    functions (and also other QNodes).\n",
    "\n",
    "Certain devices may only support a subset of the available PennyLane\n",
    "operations/observables, or may even provide additional\n",
    "operations/observables. Please consult the documentation for the\n",
    "plugin/device for more details.\n",
    "\n",
    "Once we have written the quantum function, we convert it into a `pennylane.QNode` running\n",
    "on device ``dev1`` by applying the `pennylane.qnode` decorator **directly above** the function definition:"
   ]
  },
  {
   "cell_type": "code",
   "execution_count": 4,
   "metadata": {},
   "outputs": [],
   "source": [
    "@qml.qnode(device=dev1)\n",
    "def circuit(params):\n",
    "    qml.RX(params[0], wires=0)\n",
    "    qml.RY(params[1], wires=0)\n",
    "    return qml.expval(qml.PauliZ(0))"
   ]
  },
  {
   "cell_type": "markdown",
   "metadata": {},
   "source": [
    "Thus, our `circuit()` quantum function is now a quantum function, which will become the subject of certain quantum-specific optimisations and then run on our device every time it is evaluated. Catalyst supports compiling such functions and, as we will see later, it also allows us to compile their derivatives.\n",
    "\n",
    "To _compile_ the quantum circuit function, we must trace it first with JAX, by defining a JAX entry point annotated with the `qjit` decorator. In addition to the functionality usually provided by the standard `jax.jit` function, `qjit` is aware of quantum-specific compilation techniques. In this tutorial we always define JAX entry points as a separate Python functions which have `jit_` prefix in their names."
   ]
  },
  {
   "cell_type": "code",
   "execution_count": 5,
   "metadata": {},
   "outputs": [
    {
     "name": "stdout",
     "output_type": "stream",
     "text": [
      "0.8515405859048367\n"
     ]
    }
   ],
   "source": [
    "@qjit\n",
    "def jit_circuit(params):\n",
    "    return circuit(params)\n",
    "\n",
    "print(jit_circuit(jnp.array([0.54, 0.12])))"
   ]
  },
  {
   "cell_type": "markdown",
   "metadata": {},
   "source": [
    "We can always use `qjit` as a funciton rather as a decorator. When used this way, `qjit` accepts a function to compile and returns a callable Python object. In order to call the compiled function, we must call the object by passing it the required parameters as we did previously."
   ]
  },
  {
   "cell_type": "code",
   "execution_count": 6,
   "metadata": {},
   "outputs": [
    {
     "name": "stdout",
     "output_type": "stream",
     "text": [
      "0.8515405859048367\n"
     ]
    }
   ],
   "source": [
    "jit_circuit = qjit(circuit)\n",
    "print(jit_circuit(jnp.array([0.54, 0.12])))"
   ]
  },
  {
   "cell_type": "markdown",
   "metadata": {},
   "source": [
    "Compiling quantum gradients\n",
    "---------------------------\n",
    "\n",
    "The gradient of the function `circuit`,\n",
    "can be evaluated by utilizing the same compilation pipeline that we\n",
    "used to evaluate the function itself.\n",
    "\n",
    "PennyLane and Catalyst incorporate both analytic differentiation, as well as\n",
    "numerical methods (such as the method of finite differences). Both of\n",
    "these are done without the need for manual programming of the derivatives.\n",
    "\n",
    "We can differentiate quantum functions inside the QJIT context by using\n",
    "the `grad` function provided by Catalyst. This function operates on a QNode and returns\n",
    "another function representing its gradient (i.e., the vector of partial derivatives).\n",
    "\n",
    "By default, `grad` will compute the derivate with respect to the first function argument,\n",
    "but any (one or more) argument can be specified via the `argnums` keyword argument.\n",
    " In this case, the function `circuit` takes one argument (`params`), so we specify\n",
    "`argnums=0`. Because the argument has two elements, the returned gradient\n",
    "is two-dimensional. In order to test our gradient function, we compile it with `qjit`."
   ]
  },
  {
   "cell_type": "code",
   "execution_count": 7,
   "metadata": {},
   "outputs": [
    {
     "name": "stdout",
     "output_type": "stream",
     "text": [
      "[-0.51043865 -0.1026782 ]\n"
     ]
    }
   ],
   "source": [
    "jit_dcircuit = qjit(grad(circuit, argnums=0))\n",
    "print(jit_dcircuit(jnp.array([0.54, 0.12])))"
   ]
  },
  {
   "cell_type": "markdown",
   "metadata": {},
   "source": [
    "**A note on arguments**\n",
    "\n",
    "Quantum circuit functions, being a restricted subset of Python\n",
    "functions, can also make use of multiple positional arguments and\n",
    "keyword arguments. For example, we could have defined the above quantum\n",
    "circuit function using two positional arguments, instead of one array\n",
    "argument:\n"
   ]
  },
  {
   "cell_type": "code",
   "execution_count": 8,
   "metadata": {},
   "outputs": [],
   "source": [
    "@qml.qnode(device=dev1)\n",
    "def circuit2(phi1, phi2):\n",
    "    qml.RX(phi1, wires=0)\n",
    "    qml.RY(phi2, wires=0)\n",
    "    return qml.expval(qml.PauliZ(0))"
   ]
  },
  {
   "cell_type": "markdown",
   "metadata": {},
   "source": [
    "When we calculate the gradient for such a function, the usage of\n",
    "`argnums` will be slightly different. In this case, `argnums=0` will\n",
    "return the gradient with respect to only the first parameter (`phi1`),\n",
    "and `argnums=1` will give the gradient for `phi2`. To get the gradient\n",
    "with respect to both parameters, we can use `argnums=[0,1]`:\n"
   ]
  },
  {
   "cell_type": "code",
   "execution_count": 9,
   "metadata": {},
   "outputs": [
    {
     "name": "stdout",
     "output_type": "stream",
     "text": [
      "(array(-0.51043865), array(-0.1026782))\n"
     ]
    }
   ],
   "source": [
    "print(qjit(grad(circuit2, argnums=[0,1]))(0.54, 0.12))"
   ]
  },
  {
   "cell_type": "markdown",
   "metadata": {},
   "source": [
    "Compiling parts of the optimization loop\n",
    "----------------------------------------\n",
    "\n",
    "If using the default NumPy/Autograd interface, PennyLane provides a\n",
    "collection of optimizers based on gradient descent. These optimizers\n",
    "accept a cost function and initial parameters, and utilize PennyLane\\'s\n",
    "automatic differentiation to perform gradient descent.\n",
    "\n",
    "Next, let\\'s make use of PennyLane\\'s built-in optimizers to optimize\n",
    "the two circuit parameters $\\phi_1$ and $\\phi_2$ such that the qubit,\n",
    "originally in state $\\left|0\\right\\rangle$, is rotated to be in state\n",
    "$\\left|1\\right\\rangle$. This is equivalent to measuring a Pauli-Z\n",
    "expectation value of $-1$, since the state $\\left|1\\right\\rangle$ is an\n",
    "eigenvector of the Pauli-Z matrix with eigenvalue $\\lambda=-1$.\n",
    "\n",
    "In other words, the optimization procedure will find the weights\n",
    "$\\phi_1$ and $\\phi_2$ that result in the following rotation on the Bloch\n",
    "sphere:\n",
    "\n",
    "<center>\n",
    "<img alt=\"bloch spheres\" src=\"https://raw.githubusercontent.com/PennyLaneAI/qml/master/_static/demonstration_assets/qubit_rotation/bloch.png\" />\n",
    "</center>\n",
    "\n",
    "To do so, we need to define a **cost** and **gradient** functions. By *minimizing* the\n",
    "cost function, the optimizer will determine the values of the circuit\n",
    "parameters that produce the desired outcome.\n",
    "\n",
    "In this case, our desired outcome is a Pauli-Z expectation value of\n",
    "$-1$. Since we know that the Pauli-Z expectation is bound between\n",
    "$[-1, 1]$, we can define our cost directly as a JIT function. Another JIT function is required to calculate the gradient of our circuit."
   ]
  },
  {
   "cell_type": "code",
   "execution_count": 10,
   "metadata": {},
   "outputs": [],
   "source": [
    "# Optimization cost entry point\n",
    "jit_cost = qjit(circuit)\n",
    "# Optization gradient entry point\n",
    "jit_grad = qjit(grad(circuit))"
   ]
  },
  {
   "cell_type": "markdown",
   "metadata": {},
   "source": [
    "To begin our optimization, let\\'s choose small initial values of\n",
    "$\\phi_1$ and $\\phi_2$:\n"
   ]
  },
  {
   "cell_type": "code",
   "execution_count": 11,
   "metadata": {},
   "outputs": [
    {
     "name": "stdout",
     "output_type": "stream",
     "text": [
      "0.9998675058299389\n"
     ]
    }
   ],
   "source": [
    "init_params = jnp.array([0.011, 0.012])\n",
    "print(jit_cost(init_params))"
   ]
  },
  {
   "cell_type": "markdown",
   "metadata": {},
   "source": [
    "We can see that, for these initial parameter values, the cost function\n",
    "is close to $1$."
   ]
  },
  {
   "cell_type": "code",
   "execution_count": 12,
   "metadata": {},
   "outputs": [
    {
     "name": "stdout",
     "output_type": "stream",
     "text": [
      "Cost after step     5:  0.9961778\n",
      "Cost after step    10:  0.8974944\n",
      "Cost after step    15:  0.1440490\n",
      "Cost after step    20: -0.1536720\n",
      "Cost after step    25: -0.9152496\n",
      "Cost after step    30: -0.9994046\n",
      "Cost after step    35: -0.9999964\n",
      "Cost after step    40: -1.0000000\n",
      "Cost after step    45: -1.0000000\n",
      "Cost after step    50: -1.0000000\n",
      "Cost after step    55: -1.0000000\n",
      "Cost after step    60: -1.0000000\n",
      "Cost after step    65: -1.0000000\n",
      "Cost after step    70: -1.0000000\n",
      "Cost after step    75: -1.0000000\n",
      "Cost after step    80: -1.0000000\n",
      "Cost after step    85: -1.0000000\n",
      "Cost after step    90: -1.0000000\n",
      "Cost after step    95: -1.0000000\n",
      "Cost after step   100: -1.0000000\n",
      "Optimized rotation angles: [8.14739648e-17 3.14159265e+00]\n"
     ]
    }
   ],
   "source": [
    "# set the number of steps\n",
    "steps = 100\n",
    "# set the initial parameter values\n",
    "params = init_params\n",
    "# step of the gradient descend\n",
    "stepsize = 0.4\n",
    "\n",
    "for i in range(steps):\n",
    "    # update the circuit parameters\n",
    "    dp = jit_grad(params)\n",
    "    params = params - stepsize*dp\n",
    "\n",
    "    if (i + 1) % 5 == 0:\n",
    "        print(\"Cost after step {:5d}: {: .7f}\".format(i + 1, jit_cost(params)))\n",
    "\n",
    "opt_1 = params\n",
    "print(\"Optimized rotation angles: {}\".format(opt_1))"
   ]
  },
  {
   "cell_type": "markdown",
   "metadata": {},
   "source": [
    "We can see that the optimization converges after approximately 40 steps.\n",
    "\n",
    "Substituting this into the theoretical result\n",
    "$\\langle \\psi \\mid \\sigma_z \\mid \\psi \\rangle = \\cos\\phi_1\\cos\\phi_2$,\n",
    "we can verify that this is indeed one possible value of the circuit\n",
    "parameters that produces\n",
    "$\\langle \\psi \\mid \\sigma_z \\mid \\psi \\rangle=-1$, resulting in the\n",
    "qubit being rotated to the state $\\left|1\\right\\rangle$.\n",
    "\n"
   ]
  },
  {
   "cell_type": "markdown",
   "metadata": {},
   "source": [
    "Compiling the whole optimization loop using JAX\n",
    "-----------------------------------------------"
   ]
  },
  {
   "cell_type": "markdown",
   "metadata": {},
   "source": [
    "We can easily combine the quantum parts of the program with the JAX code. Below we show how to implement the whole optimization loop in JAX. We make use of standard JAX control-flow primitives here."
   ]
  },
  {
   "cell_type": "code",
   "execution_count": 13,
   "metadata": {},
   "outputs": [
    {
     "name": "stdout",
     "output_type": "stream",
     "text": [
      "[8.14739648e-17 3.14159265e+00]\n"
     ]
    }
   ],
   "source": [
    "from jax.lax import fori_loop\n",
    "\n",
    "@qjit\n",
    "def jit_opt(init_params):\n",
    "    \"\"\" Compiled optimization loop function \"\"\"\n",
    "    stepsize = 0.4\n",
    "    nsteps = 100\n",
    "\n",
    "    def loop(i,p):\n",
    "        dp = grad(circuit)(p)\n",
    "        p2 = p - stepsize*dp\n",
    "        return p2\n",
    "\n",
    "    params = fori_loop(0, nsteps, loop, init_params)\n",
    "    return params\n",
    "\n",
    "\n",
    "opt_2 = jit_opt(jnp.array([0.011, 0.012]))\n",
    "print(opt_2)"
   ]
  },
  {
   "cell_type": "markdown",
   "metadata": {},
   "source": [
    "Using third-party JAX libraries\n",
    "------------------------------\n",
    "\n",
    "We can combine our quantum functions with any Python libraries supporting JAX. In this section we use [optax.sgd](https://optax.readthedocs.io/en/stable/api/optimizers.html#optax.sgd) optimizer to solve the same optimization task."
   ]
  },
  {
   "cell_type": "code",
   "execution_count": 14,
   "metadata": {},
   "outputs": [
    {
     "name": "stdout",
     "output_type": "stream",
     "text": [
      "[8.14739648e-17 3.14159265e+00]\n"
     ]
    }
   ],
   "source": [
    "import optax\n",
    "\n",
    "@qjit\n",
    "def jit_opt_thirdparty():\n",
    "\n",
    "    def _target(x):\n",
    "        p = jnp.array([x[0],x[1]])\n",
    "        g = grad(circuit)(p)\n",
    "        c = circuit(p)\n",
    "        return c,(g[0],g[1])\n",
    "\n",
    "    opt = optax.sgd(learning_rate=0.4)\n",
    "\n",
    "    steps = 100\n",
    "    params = init_params[0],init_params[1]\n",
    "    state = opt.init(params)\n",
    "    \n",
    "    def loop(i,arg):\n",
    "        (p, s) = arg\n",
    "        _, g = _target(p)\n",
    "        (u, s2) = opt.update(g, s)\n",
    "        p2 = optax.apply_updates(p, u)\n",
    "        return (p2, s2)\n",
    "      \n",
    "    (params, _) = fori_loop(0, steps, loop, (params,state))\n",
    "    return jnp.array([params[0],params[1]])\n",
    "\n",
    "opt_3 = jit_opt_thirdparty()\n",
    "print(opt_3)"
   ]
  },
  {
   "cell_type": "markdown",
   "metadata": {},
   "source": [
    "Finally, we check that all the results obtained in this tutorial are consistant"
   ]
  },
  {
   "cell_type": "code",
   "execution_count": 15,
   "metadata": {},
   "outputs": [],
   "source": [
    "assert jnp.allclose(opt_1, opt_2, atol=1e-7)\n",
    "assert jnp.allclose(opt_1, opt_3, atol=1e-7)"
   ]
  }
 ],
 "metadata": {
  "kernelspec": {
   "display_name": "Python 3 (ipykernel)",
   "language": "python",
   "name": "python3"
  },
  "language_info": {
   "codemirror_mode": {
    "name": "ipython",
    "version": 3
   },
   "file_extension": ".py",
   "mimetype": "text/x-python",
   "name": "python",
   "nbconvert_exporter": "python",
   "pygments_lexer": "ipython3",
   "version": "3.10.12"
  }
 },
 "nbformat": 4,
 "nbformat_minor": 4
}
