{
  "cells": [
    {
      "cell_type": "code",
      "execution_count": null,
      "metadata": {
        "collapsed": false
      },
      "outputs": [],
      "source": [
        "# This cell is added by sphinx-gallery\n# It can be customized to whatever you like\n%matplotlib inline"
      ]
    },
    {
      "cell_type": "markdown",
      "metadata": {},
      "source": [
        "Learning shallow quantum circuits with local inversions and circuit sewing\n==========================================================================\n\nIn a recent paper [Learning shallow quantum\ncircuits](https://arxiv.org/abs/2401.10095), Huang et al introduce and\nprove performance bounds on efficient algorithms to learn constant depth\ncircuits. At the heart of the paper lie local inversions that locally\nundo a quantum circuit, as well as a circuit \\\"sewing\\\" technique that\nlets one construct a global inversion from those. We are going to review\nthese new concepts and showcase them with an implementation in\nPennyLane.\n\nIntroduction\n------------\n\nShallow, constant depth quantum circuits are provably powerful. At the\nsame time, they are known to be difficult to train. The authors of\ntackle the question of whether or not shallow circuits are efficiently\nlearnable.\n\nGiven some unknown unitary circuit $U$, learning the circuit constitutes\nfinding a unitary $V$ that faithfully resembles $U$\\'s action. This can\nbe either fully performing the same operation ($U V^\\dagger = 1$) or\nresembling the action on a fixed input state\n($U |\\phi\\rangle = V |\\phi\\rangle$, where often\n$|\\phi\\rangle = |0 \\rangle^{\\otimes n}$). The authors go through both\nscenarios with different levels of restrictions on the allowed gate set\nand locality of the target circuit $U$. In this demo, we are mainly\ngoing to focus on learning the action on $|0 \\rangle^{\\otimes n}$, i.e.\n$U |0\\rangle^{\\otimes n} = V |0\\rangle^{\\otimes n}$.\n\nAt the heart of the solutions to all these scenarios lies the use of\nlocal inversions that undo the effect of the unitary, and sewing them\ntogether to form a global inversion.\n\nLocal Inversions\n----------------\n\nA local inversion is a unitary circuit that locally disentangles one\nqubit after a previous, different unitary entangled them. Let us make an\nexplicit example in PennyLane after some boilerplate imports. Let us\nlook at a very shallow unitary circuit\n$U^\\text{test} = \\text{CNOT}_{(0, 1)}\\text{CNOT}_{(2, 3)}\\text{CNOT}_{(1, 2)} H^{\\otimes n}$.\n"
      ]
    },
    {
      "cell_type": "code",
      "execution_count": null,
      "metadata": {
        "collapsed": false
      },
      "outputs": [],
      "source": [
        "import pennylane as qml\nimport numpy as np\nimport matplotlib.pyplot as plt\n\ndef U_test():\n    for i in range(4):\n        qml.Hadamard(i)\n    qml.CNOT((1, 2))\n    qml.CNOT((2, 3))\n    qml.CNOT((0, 1))\n\nqml.draw_mpl(U_test)()\nplt.show()"
      ]
    },
    {
      "cell_type": "markdown",
      "metadata": {},
      "source": [
        "We now want to locally invert it. That is, we want to apply a second\nunitary $V_0$ such that\n$\\text{tr}_{\\neq 0} \\left[V_0 U (|0 \\rangle \\langle 0|)^{\\otimes n} U^\\dagger V^\\dagger_0\\right] = |0 \\rangle \\langle 0|_0$,\nwhere we trace out all but wire `0`. For that, we just follow the\nlight-cone of the qubit that we want to invert and perform the inverse\noperations in reverse order in $V_0$.\n"
      ]
    },
    {
      "cell_type": "code",
      "execution_count": null,
      "metadata": {
        "collapsed": false
      },
      "outputs": [],
      "source": [
        "def V_0():\n    qml.CNOT((0, 1))\n    qml.CNOT((1, 2))\n    qml.Hadamard(0)\n    \ndev = qml.device(\"default.qubit\")\n\n@qml.qnode(dev)\ndef local_inversion():\n    U_test()   # some shallow unitary circuit\n    V_0()      # supposed to disentangle qubit 0\n    return qml.density_matrix(wires=[0])\n\nprint(np.allclose(local_inversion(), np.array([[1., 0.], [0., 0.]])))"
      ]
    },
    {
      "cell_type": "markdown",
      "metadata": {},
      "source": [
        "After performing $U^\\text{test}$ and the inversion of qubit $0$, $V_0$,\nwe find the reduced state $|0\u00a0\\rangle \\langle 0|$ on the correct qubit.\n\nLocal inversions are not unique and finding one is easier than finding\nglobal inversions. But constructing a global inversion from all possible\nlocal inversions is highly non-trivial (as it constitutes a variant of\nthe [quantum marginal problem](https://arxiv.org/abs/1404.1085)).\nHowever, the circuit sewing technique introduced in lets us circumvent\nthat problem and construct a global inversion from just a single local\ninversion per qubit.\n\nTo do that, we construct the other local inversions in the same way as\nbefore by just following back the light-cones of the respective qubits.\nIn general these would have to be learned, more on that later. Here we\njust reverse-engineer them from knowing $U^\\text{test}$.\n"
      ]
    },
    {
      "cell_type": "code",
      "execution_count": null,
      "metadata": {
        "collapsed": false
      },
      "outputs": [],
      "source": [
        "def V_1():\n    qml.CNOT((0, 1))\n    qml.CNOT((1, 2))\n    qml.Hadamard(1)\n\ndef V_2():\n    qml.CNOT((2, 3))\n    qml.CNOT((1, 2))\n    qml.Hadamard(2)\n\ndef V_3():\n    qml.CNOT((2, 3))\n    qml.CNOT((1, 2))\n    qml.Hadamard(3)"
      ]
    },
    {
      "cell_type": "markdown",
      "metadata": {},
      "source": [
        "Circuit Sewing\n==============\n\nSo how does knowing local inversions $\\{V_0, V_1, V_2, V_3\\}$ help us\nwith solving the original goal of finding a global inversion\n$U V = \\mathbb{1}$? The authors introduce a clever trick that they coin\n[circuit sewing]{.title-ref}. It works by swapping out the decoupled\nqubit with an ancilla register and restoring (\\\"repairing\\\") the unitary\non the remaining wires. Let us walk through this process step by step.\n\nWe already saw how to decouple qubit $0$ in `local_inversion()` above.\nWe continue by swapping out the decoupled wire with an ancilla qubit and\n\\\"repairing\\\" the circuit by applying $V^\\dagger_0$. (This is called\n\\\"repairing\\\" because $V_1$ can now decouple qubit 1, which would not be\npossible in general without that step.) We label all ancilla wires by\n`[n + 0, n + 1, .. 2n-1]` to have an easy 1-to-1 correspondence and we\nsee that qubit `1` is successfully decoupled. For completeness, we also\ncheck that the swapped out qubit (now moved to wire `n + 0`) is\ndecoupled still.\n"
      ]
    },
    {
      "cell_type": "code",
      "execution_count": null,
      "metadata": {
        "collapsed": false
      },
      "outputs": [],
      "source": [
        "n = 4 # number of qubits\n\n@qml.qnode(dev)\ndef sewing_1():\n    U_test()              # some shallow unitary circuit\n    qml.Barrier()\n    V_0()                 # disentangle qubit 0\n    qml.Barrier()\n    qml.SWAP((0, n))      # swap out disentangled qubit 0 and n+0\n    qml.Barrier()\n    qml.adjoint(V_0)()    # repair circuit from V_0\n    qml.Barrier()\n    V_1()                 # disentangle qubit 1\n    return qml.density_matrix(wires=[1]), qml.density_matrix(wires=[n])\n\n# The Barriers are to see which part of the circuit corresponds to which gate\nqml.draw_mpl(sewing_1)()\nplt.show()\n\nr1, rn = sewing_1()\nprint(f\"Sewing qubit 1\")\nprint(f\"rho_1 = |0\u27e9\u27e80| {np.allclose(r1, np.array([[1, 0], [0, 0]]))}\")\nprint(f\"rho_0+n = |0\u27e9\u27e80| {np.allclose(rn, np.array([[1, 0], [0, 0]]))}\")"
      ]
    },
    {
      "cell_type": "markdown",
      "metadata": {},
      "source": [
        "We can continue this process for all qubits. Let us be tedious and do\nall steps one by one.\n"
      ]
    },
    {
      "cell_type": "code",
      "execution_count": null,
      "metadata": {
        "collapsed": false
      },
      "outputs": [],
      "source": [
        "@qml.qnode(dev)\ndef sewing_2():\n    U_test()              # some shallow unitary circuit\n    V_0()                 # disentangle qubit 0\n    qml.SWAP((0, n))      # swap out disentangled qubit 0 and n+0\n    qml.adjoint(V_0)()    # repair circuit from V_0\n    V_1()                 # disentangle qubit 1\n    qml.SWAP((1, n + 1))  # swap out disentangled qubit 1 to n+1\n    qml.adjoint(V_1)()    # repair circuit from V_1\n    V_2()                 # disentangle qubit 2\n    return qml.density_matrix(wires=[2]), qml.density_matrix(wires=[n]), qml.density_matrix(wires=[n + 1])\n\nr2, rn, rn1 = sewing_2()\nprint(f\"Sewing qubit 2\")\nprint(f\"rho_2 = |0\u27e9\u27e80| {np.allclose(r2, np.array([[1, 0], [0, 0]]))}\")\nprint(f\"rho_0+n = |0\u27e9\u27e80| {np.allclose(rn, np.array([[1, 0], [0, 0]]))}\")\nprint(f\"rho_1+n = |0\u27e9\u27e80| {np.allclose(rn1, np.array([[1, 0], [0, 0]]))}\")"
      ]
    },
    {
      "cell_type": "markdown",
      "metadata": {},
      "source": [
        "We continue to show that the swapped out wires remain decoupled, as well\nas the qubit we are currently decoupling.\n"
      ]
    },
    {
      "cell_type": "code",
      "execution_count": null,
      "metadata": {
        "collapsed": false
      },
      "outputs": [],
      "source": [
        "@qml.qnode(dev)\ndef sewing_3():\n    U_test()              # some shallow unitary circuit\n    V_0()                 # disentangle qubit 0\n    qml.SWAP((0, n))      # swap out disentangled qubit 0 and n+0\n    qml.adjoint(V_0)()    # repair circuit from V_0\n    V_1()                 # disentangle qubit 1\n    qml.SWAP((1, n + 1))  # swap out disentangled qubit 1 to n+1\n    qml.adjoint(V_1)()    # repair circuit from V_1\n    V_2()                 # disentangle qubit 2\n    qml.SWAP((2, n + 2))  # swap out disentangled qubit 2 to n+2\n    qml.adjoint(V_2)()    # repair circuit from V_2\n    V_3()                 # disentangle qubit 3\n    return qml.density_matrix(wires=[3]), qml.density_matrix(wires=[n]), qml.density_matrix(wires=[n + 1]), qml.density_matrix(wires=[n + 2])\n\nr3, rn, rn1, rn2 = sewing_3()\nprint(f\"Sewing qubit 3\")\nprint(f\"rho_3 = |0\u27e9\u27e80| {np.allclose(r3, np.array([[1, 0], [0, 0]]))}\")\nprint(f\"rho_0+n = |0\u27e9\u27e80| {np.allclose(rn, np.array([[1, 0], [0, 0]]))}\")\nprint(f\"rho_1+n = |0\u27e9\u27e80| {np.allclose(rn1, np.array([[1, 0], [0, 0]]))}\")\nprint(f\"rho_2+n = |0\u27e9\u27e80| {np.allclose(rn2, np.array([[1, 0], [0, 0]]))}\")"
      ]
    },
    {
      "cell_type": "markdown",
      "metadata": {},
      "source": [
        "After one final swap and repair, we arrive at a state where all original\nqubits are decoupled. We just need to move them back to their original\nposition with a global SWAP. But not just that, we also now know that,\nglobally, the original $U^\\text{test}$ is inverted.\n"
      ]
    },
    {
      "cell_type": "code",
      "execution_count": null,
      "metadata": {
        "collapsed": false
      },
      "outputs": [],
      "source": [
        "@qml.qnode(dev)\ndef V_dagger_test():\n    U_test()              # some shallow unitary circuit\n    V_0()                 # disentangle qubit 0\n    qml.SWAP((0, n))      # swap out disentangled qubit 0 and n+0\n    qml.adjoint(V_0)()    # repair circuit from V_0\n    V_1()                 # disentangle qubit 1\n    qml.SWAP((1, n + 1))  # swap out disentangled qubit 1 to n+1\n    qml.adjoint(V_1)()    # repair circuit from V_1\n    V_2()                 # disentangle qubit 2\n    qml.SWAP((2, n + 2))  # swap out disentangled qubit 2 to n+2\n    qml.adjoint(V_2)()    # repair circuit from V_2\n    V_3()                 # disentangle qubit 3\n    qml.SWAP((3, n + 3))  # swap out disentangled qubit 3 to n+3\n    qml.adjoint(V_3)()    # repair circuit from V_3\n    for i in range(n):    # swap back all decoupled wires to their original registers\n        qml.SWAP((i + n, i))\n    return qml.density_matrix([0, 1, 2, 3])\n\npsi0 = np.eye(2**4)[0] # |0>^n\nnp.allclose(V_dagger_test(), np.outer(psi0, psi0))"
      ]
    },
    {
      "cell_type": "markdown",
      "metadata": {},
      "source": [
        "Everything after `U_test()` in `V_dagger_test` constitutes\n$(V^\\text{sew})^\\dagger$.\n"
      ]
    },
    {
      "cell_type": "code",
      "execution_count": null,
      "metadata": {
        "collapsed": false
      },
      "outputs": [],
      "source": [
        "def V_dagger():\n    V_0()                 # disentangle qubit 0\n    qml.SWAP((0, n))      # swap out disentangled qubit 0 and n+0\n    qml.adjoint(V_0)()    # repair circuit from V_0\n    V_1()                 # disentangle qubit 1\n    qml.SWAP((1, n + 1))  # swap out disentangled qubit 1 to n+1\n    qml.adjoint(V_1)()    # repair circuit from V_1\n    V_2()                 # disentangle qubit 2\n    qml.SWAP((2, n + 2))  # swap out disentangled qubit 2 to n+2\n    qml.adjoint(V_2)()    # repair circuit from V_2\n    V_3()                 # disentangle qubit 3\n    qml.SWAP((3, n + 3))  # swap out disentangled qubit 3 to n+3\n    qml.adjoint(V_3)()    # repair circuit from V_3\n    for i in range(n):    # swap back all decoupled wires to their original registers\n        qml.SWAP((i + n, i))"
      ]
    },
    {
      "cell_type": "markdown",
      "metadata": {},
      "source": [
        "It is such that the action of $U^\\text{test}$ on\n$|0 \\rangle^{\\otimes n}$ is reverted when tracing out the ancilla\nqubits. From the paper we know that, in fact, the action of the sewn\n$V^\\text{sew}$ overall is\n\n$$V^\\text{sew} |0^{\\otimes 2n}\\rangle = U \\otimes U^\\dagger |0^{\\otimes 2n}\\rangle.$$\n\n$U$ acts on the first `n` qubits, whereas $U^\\dagger$ acts on the `n`\nancilla qubits.\n"
      ]
    },
    {
      "cell_type": "markdown",
      "metadata": {},
      "source": [
        "Numerical Experiment\n====================\n\nThe actual learning in this procedure happens in obtaining the local\ninversions $\\{V_0, V_1, V_2, V_3\\}$. The paper relies on existence\nproofs from gate synthesis and suggests brute-force searching via\nenumerate-and-test to find suitable $\\{V_i\\}$. The idea is to\nessentially take a big enough set of possible $\\{V_i\\}$ and post-select\nthose that fulfill\n$||V^\\dagger_i U^\\dagger P_i U V_i - P_i|| < \\epsilon$ for\n$P_i \\in \\{X, Y, Z\\}$, which the authors show suffices as a criterium to\nhave an approximate local inversion.\n\nInstead of doing that, let us here look at an explicit example by\nconstructing a target unitary of some structure and a variational Ansatz\nfor the local inversions that has a different structure. There are many\nways to obtain local inversions, this is just one we find more\nconvenient.\n\nFirst, let us construct the target unitary\n"
      ]
    },
    {
      "cell_type": "code",
      "execution_count": null,
      "metadata": {
        "collapsed": false
      },
      "outputs": [],
      "source": [
        "import jax\njax.config.update(\"jax_enable_x64\", True)\njax.config.update(\"jax_platform_name\", \"cpu\")\n\nn = 4\nwires = range(n)\nU_params = jax.random.normal(jax.random.PRNGKey(0), shape=(2, n//2), dtype=float)\n\ndef U_target(wires):\n    for i in range(n):\n        qml.Hadamard(wires=wires[i])\n    # brick-wall ansatz\n    for i in range(0, n, 2):\n        qml.IsingXX(U_params[0, i], wires=(wires[i], wires[(i+1)%len(wires)]))\n    for i in range(1, n, 2):\n        qml.IsingXX(U_params[1, i], wires=(wires[i], wires[(i+1)%len(wires)]))\n\nqml.draw_mpl(U_target)(wires)\nplt.show()"
      ]
    },
    {
      "cell_type": "markdown",
      "metadata": {},
      "source": [
        "Putting on blindfolds and assuming we don\\'t know the circuit structure\nof $U^\\text{target}$, we set up a variational Ansatz for the local\ninversions $V_i$ with the following structure.\n"
      ]
    },
    {
      "cell_type": "code",
      "execution_count": null,
      "metadata": {
        "collapsed": false
      },
      "outputs": [],
      "source": [
        "n_layers = 2\n\ndef V_i(params, wires):\n\n    for i in range(n):\n        qml.RX(params[0, 0, i], i)\n    for i in range(n):\n        qml.RY(params[0, 1, i], i)\n    \n    for ll in range(n_layers):\n        for i in range(0, n, 2):\n            qml.CNOT((wires[i], wires[i+1]))\n        for i in range(1, n, 2):\n            qml.CNOT((wires[i], wires[(i+1)%n]))\n        for i in range(n):\n            qml.RX(params[ll+1, 0, i], i)\n        for i in range(n):\n            qml.RY(params[ll+1, 1, i], i)\n\nparams = jax.random.normal(jax.random.PRNGKey(10), shape=(n_layers+1, 2, n), dtype=float)\n\nqml.draw_mpl(V_i)(params, wires)\nplt.show()"
      ]
    },
    {
      "cell_type": "markdown",
      "metadata": {},
      "source": [
        "Next, we are going to run optimizations for each $V_i$ to find a local\ninversion. For that we need some boilerplate code, see our\n`demo <tutorial_How_to_optimize_QML_model_using_JAX_and_Optax>`{.interpreted-text\nrole=\"doc\"} on optimizing quantum circuits in jax.\n"
      ]
    },
    {
      "cell_type": "code",
      "execution_count": null,
      "metadata": {
        "collapsed": false
      },
      "outputs": [],
      "source": [
        "import optax\nfrom datetime import datetime\nfrom functools import partial\n\nX, Y, Z = qml.PauliX, qml.PauliY, qml.PauliZ\n\ndef run_opt(value_and_grad, theta, n_epochs=100, lr=0.1, b1=0.9, b2=0.999):\n\n    optimizer = optax.adam(learning_rate=lr, b1=b1, b2=b2)\n    opt_state = optimizer.init(theta)\n\n    energy = np.zeros(n_epochs)\n    thetas = []\n\n    @jax.jit\n    def step(opt_state, theta):\n        val, grad_circuit = value_and_grad(theta)\n        updates, opt_state = optimizer.update(grad_circuit, opt_state)\n        theta = optax.apply_updates(theta, updates)\n\n        return opt_state, theta, val\n\n    t0 = datetime.now()\n    ## Optimization loop\n    for n in range(n_epochs):\n        opt_state, theta, val = step(opt_state, theta)\n\n        energy[n] = val\n        thetas.append(\n            theta\n        )\n    t1 = datetime.now()\n    print(f\"final loss: {val}; min loss: {np.min(energy)}; after {t1 - t0}\")\n    \n    return thetas, energy\n\ndev = qml.device(\"default.qubit\")"
      ]
    },
    {
      "cell_type": "markdown",
      "metadata": {},
      "source": [
        "As a cost function, we perform state tomography after applying\n$U^\\text{target}$ and our Ansatz $V_i$. Our aim is to bring the state on\nqubit `i` back to the north pole of the Bloch sphere, and we specify our\ncost function accordingly.\n"
      ]
    },
    {
      "cell_type": "code",
      "execution_count": null,
      "metadata": {
        "collapsed": false
      },
      "outputs": [],
      "source": [
        "@qml.qnode(dev, interface=\"jax\")\ndef qnode_i(params, i):\n    U_target(wires)\n    V_i(params, wires)\n    return [qml.expval(P(i)) for P in [X, Y, Z]]\n    \n@partial(jax.jit, static_argnums=1)\n@jax.value_and_grad\ndef cost_i(params, i):\n    x, y, z = qnode_i(params, i)\n    return x**2 + y**2 + (1-z)**2"
      ]
    },
    {
      "cell_type": "markdown",
      "metadata": {},
      "source": [
        "We can now run the optimization. We see that in that case it suffices to\nuse the random initial values from above for each optimization.\n"
      ]
    },
    {
      "cell_type": "code",
      "execution_count": null,
      "metadata": {
        "collapsed": false
      },
      "outputs": [],
      "source": [
        "params_i = []\nfor i in range(n):\n    cost = partial(cost_i, i=i)\n    thetas, _ = run_opt(cost, params)\n    params_i.append(thetas[-1])"
      ]
    },
    {
      "cell_type": "markdown",
      "metadata": {},
      "source": [
        "For consistency, we check the resulting coordinates of qubit `i` on the\nBloch sphere.\n"
      ]
    },
    {
      "cell_type": "code",
      "execution_count": null,
      "metadata": {
        "collapsed": false
      },
      "outputs": [],
      "source": [
        "for i in range(n):\n    X_res, Y_res, Z_res = qnode_i(params_i[i], i)\n    print(f\"Bloch sphere coordinates of qubit {i} after inversion: {X_res:.5f}, {Y_res:.5f} {Z_res:.5f}\")"
      ]
    },
    {
      "cell_type": "markdown",
      "metadata": {},
      "source": [
        "We see that they are all approximately inverting the circuit as the\nresulting state is close to $|0\\rangle$ (associated with coordinates\n$(x, y, z) = (0, 0, 1)$). With these local inversions, we can sew\ntogether again a unitary that globally inverts the circuit.\n"
      ]
    },
    {
      "cell_type": "code",
      "execution_count": null,
      "metadata": {
        "collapsed": false
      },
      "outputs": [],
      "source": [
        "def V_sew():\n    for i in range(n):\n        # local sewing: inversion, exchange, heal\n        V_i(params_i[i], range(n))\n        qml.SWAP((i, i+n))\n        qml.adjoint(V_i)(params_i[i], range(n))\n\n    # global SWAP\n    for i in range(n):\n        qml.SWAP((i, i+n))\n\n@qml.qnode(dev, interface=\"jax\")\ndef sewing_test():\n    U_target(range(n))\n    V_sew()\n    return qml.density_matrix(range(4))\n\nprint(np.allclose(sewing_test(), np.outer(psi0, psi0), atol=1e-1))"
      ]
    },
    {
      "cell_type": "markdown",
      "metadata": {},
      "source": [
        "The final test confirms that $V^\\text{sew}$ approximately inverts\n$U^\\text{target}$ on the system wires.\n\nConclusion\n==========\n\nWe saw how one can construct a global inversion from sewing together\nlocal inversions. This is a powerful new technique that may find\napplications in different domains of quantum computing. The technique\ncleverly circumvents the quantum marginal problem of constructing a\nglobal inversion from local ones compatible with each other.\n\nThe authors use this technique to prove that constant depth quantum\ncircuits are learnable (i.e. can be reconstructed) in a variety of\ndifferent scenarios.\n\n::: {.note}\n::: {.title}\nNote\n:::\n\nWe mainly focussed on the case of constructing $V^\\text{sew}$ such that\n$V^\\text{sew} U |0 \\rangle^{\\otimes n} = |0 \\rangle^{\\otimes n}$ as it\nalready nicely captures the main technical method that is circuit\nsewing. This is different to learning the full unitary, i.e. $V$ such\nthat $U V = 1$.\n\nFor this, the circuit sewing works in the exact same way. The main\ndifference is that the local inversions are now full inversions in the\nsense of $\\text{tr}_{\\neq 0}\\left[V_i U\\right] = \\mathbb{1}_i$ (whereas\nbefore we just had\n$V_i U |0 \\rangle^{\\otimes n} = |0 \\rangle^{\\otimes n}$, which is a\nsimpler case). The authors show that a sufficient condition for full\ninversion is achieved by minimizing\n\n$$\\sum_{P\\in \\{X, Y, Z\\}} ||V^\\dagger_i U^\\dagger P_i U V_i - P_i ||.$$\n\nIn the paper, the authors suggest to brute-force search the whole space\nof possible $V_i$ and post-select those for which the distance to $P_i$\nis small. The terms are evaluated by randomly sampling input (product)\nstates $|\\phi_j\\rangle$ and computing expectation values of\n$\\langle \\phi_j | V^\\dagger_i U^\\dagger P_i U V_i |\\phi_j\\rangle$. In\nparticular, samples for all possible candidates of $V_i$ are generated.\nAnother possibility is to perform state tomography of the single qubit\nstates and compare that with the input state. Either way, the circuit\nsewing after obtaining the learned local inversions is the same as\ndescribed above.\n:::\n"
      ]
    },
    {
      "cell_type": "markdown",
      "metadata": {},
      "source": [
        "References\n==========\n"
      ]
    },
    {
      "cell_type": "markdown",
      "metadata": {},
      "source": [
        "About the author\n================\n"
      ]
    }
  ],
  "metadata": {
    "kernelspec": {
      "display_name": "Python 3",
      "language": "python",
      "name": "python3"
    },
    "language_info": {
      "codemirror_mode": {
        "name": "ipython",
        "version": 3
      },
      "file_extension": ".py",
      "mimetype": "text/x-python",
      "name": "python",
      "nbconvert_exporter": "python",
      "pygments_lexer": "ipython3",
      "version": "3.10.14"
    }
  },
  "nbformat": 4,
  "nbformat_minor": 0
}