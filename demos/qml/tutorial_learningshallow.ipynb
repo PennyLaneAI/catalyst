{
 "cells": [
  {
   "cell_type": "code",
   "execution_count": 1,
   "metadata": {
    "collapsed": false,
    "jupyter": {
     "outputs_hidden": false
    }
   },
   "outputs": [
    {
     "name": "stdout",
     "output_type": "stream",
     "text": [
      "Defaulting to user installation because normal site-packages is not writeable\n",
      "Requirement already satisfied: matplotlib in /home/tzung-han.juang/.local/lib/python3.10/site-packages (3.8.0)\n",
      "Requirement already satisfied: contourpy>=1.0.1 in /home/tzung-han.juang/.local/lib/python3.10/site-packages (from matplotlib) (1.2.1)\n",
      "Requirement already satisfied: cycler>=0.10 in /home/tzung-han.juang/.local/lib/python3.10/site-packages (from matplotlib) (0.12.1)\n",
      "Requirement already satisfied: fonttools>=4.22.0 in /home/tzung-han.juang/.local/lib/python3.10/site-packages (from matplotlib) (4.53.0)\n",
      "Requirement already satisfied: kiwisolver>=1.0.1 in /home/tzung-han.juang/.local/lib/python3.10/site-packages (from matplotlib) (1.4.5)\n",
      "Requirement already satisfied: numpy<2,>=1.21 in /home/tzung-han.juang/.local/lib/python3.10/site-packages (from matplotlib) (1.26.4)\n",
      "Requirement already satisfied: packaging>=20.0 in /home/tzung-han.juang/.local/lib/python3.10/site-packages (from matplotlib) (24.1)\n",
      "Requirement already satisfied: pillow>=6.2.0 in /usr/lib/python3/dist-packages (from matplotlib) (9.0.1)\n",
      "Requirement already satisfied: pyparsing>=2.3.1 in /usr/lib/python3/dist-packages (from matplotlib) (2.4.7)\n",
      "Requirement already satisfied: python-dateutil>=2.7 in /home/tzung-han.juang/.local/lib/python3.10/site-packages (from matplotlib) (2.9.0.post0)\n",
      "Requirement already satisfied: six>=1.5 in /usr/lib/python3/dist-packages (from python-dateutil>=2.7->matplotlib) (1.16.0)\n",
      "Note: you may need to restart the kernel to use updated packages.\n"
     ]
    }
   ],
   "source": [
    "%pip install matplotlib\n",
    "%matplotlib inline"
   ]
  },
  {
   "cell_type": "markdown",
   "metadata": {},
   "source": [
    "Learning shallow quantum circuits with local inversions and circuit sewing\n",
    "==========================================================================\n",
    "\n",
    ".. note::\n",
    "    This tutorial is a Catalyst adaptation of the\n",
    "    [Shallow Quantum Circuits tutorial](https://pennylane.ai/qml/demos/tutorial_learningshallow/)\n",
    "    by Korbinian Kottmann.\n",
    "\n",
    "In a recent paper [Learning shallow quantum\n",
    "circuits](https://arxiv.org/abs/2401.10095), Huang et al introduce and\n",
    "prove performance bounds on efficient algorithms to learn constant depth\n",
    "circuits. At the heart of the paper lie local inversions that locally\n",
    "undo a quantum circuit, as well as a circuit \\\"sewing\\\" technique that\n",
    "lets one construct a global inversion from those. We are going to review\n",
    "these new concepts and showcase them with an implementation in\n",
    "PennyLane.\n",
    "\n",
    "Importing PennyLane and Catalyst\n",
    "--------------------------------\n",
    "\n",
    "In order to use PannyLane with the Catalyst compiler, we need to import several important components:\n",
    "\n",
    "- The [PennyLane](https://pennylane.ai/) framework in order to access the base QML API,\n",
    "- The [Catalyst](../index.rst) Python package,\n",
    "- The JAX version of NumPy."
   ]
  },
  {
   "cell_type": "code",
   "execution_count": 2,
   "metadata": {},
   "outputs": [],
   "source": [
    "import pennylane as qml\n",
    "from catalyst import qjit, grad, for_loop\n",
    "import jax.numpy as jnp"
   ]
  },
  {
   "cell_type": "markdown",
   "metadata": {},
   "source": [
    "Introduction\n",
    "------------\n",
    "\n",
    "Shallow, constant depth quantum circuits are provably powerful. At the\n",
    "same time, they are known to be difficult to train. The authors of\n",
    "tackle the question of whether or not shallow circuits are efficiently\n",
    "learnable.\n",
    "\n",
    "Given some unknown unitary circuit $U$, learning the circuit constitutes\n",
    "finding a unitary $V$ that faithfully resembles $U$\\'s action. This can\n",
    "be either fully performing the same operation ($U V^\\dagger = 1$) or\n",
    "resembling the action on a fixed input state\n",
    "($U |\\phi\\rangle = V |\\phi\\rangle$, where often\n",
    "$|\\phi\\rangle = |0 \\rangle^{\\otimes n}$). The authors go through both\n",
    "scenarios with different levels of restrictions on the allowed gate set\n",
    "and locality of the target circuit $U$. In this demo, we are mainly\n",
    "going to focus on learning the action on $|0 \\rangle^{\\otimes n}$, i.e.\n",
    "$U |0\\rangle^{\\otimes n} = V |0\\rangle^{\\otimes n}$.\n",
    "\n",
    "At the heart of the solutions to all these scenarios lies the use of\n",
    "local inversions that undo the effect of the unitary, and sewing them\n",
    "together to form a global inversion.\n",
    "\n",
    "Local Inversions\n",
    "----------------\n",
    "\n",
    "A local inversion is a unitary circuit that locally disentangles one\n",
    "qubit after a previous, different unitary entangled them. Let us make an\n",
    "explicit example in PennyLane after some boilerplate imports. Let us\n",
    "look at a very shallow unitary circuit\n",
    "$U^\\text{test} = \\text{CNOT}_{(0, 1)}\\text{CNOT}_{(2, 3)}\\text{CNOT}_{(1, 2)} H^{\\otimes n}$.\n"
   ]
  },
  {
   "cell_type": "code",
   "execution_count": 3,
   "metadata": {
    "collapsed": false,
    "jupyter": {
     "outputs_hidden": false
    }
   },
   "outputs": [
    {
     "data": {
      "image/png": "[encoded data removed]",
      "text/plain": [
       "<Figure size 600x500 with 1 Axes>"
      ]
     },
     "metadata": {},
     "output_type": "display_data"
    }
   ],
   "source": [
    "import matplotlib.pyplot as plt\n",
    "n = 4 # number of qubits\n",
    "   \n",
    "def U_test():\n",
    "\n",
    "    @for_loop(0, n, 1)\n",
    "    def loop_hadamard(i):\n",
    "        qml.Hadamard(i)\n",
    "\n",
    "    @for_loop(1, n, 1)\n",
    "    def loop_cnot(i):\n",
    "        qml.CNOT((i%3, i%3+1))\n",
    "    \n",
    "    loop_hadamard()\n",
    "    loop_cnot()\n",
    "\n",
    "qml.draw_mpl(U_test)()\n",
    "plt.show()"
   ]
  },
  {
   "cell_type": "markdown",
   "metadata": {},
   "source": [
    "We now want to locally invert it. That is, we want to apply a second\n",
    "unitary $V_0$ such that\n",
    "$\\text{tr}_{\\neq 0} \\left[V_0 U (|0 \\rangle \\langle 0|)^{\\otimes n} U^\\dagger V^\\dagger_0\\right] = |0 \\rangle \\langle 0|_0$,\n",
    "where we trace out all but wire `0`. For that, we just follow the\n",
    "light-cone of the qubit that we want to invert and perform the inverse\n",
    "operations in reverse order in $V_0$.\n"
   ]
  },
  {
   "cell_type": "code",
   "execution_count": 4,
   "metadata": {
    "collapsed": false,
    "jupyter": {
     "outputs_hidden": false
    }
   },
   "outputs": [
    {
     "name": "stdout",
     "output_type": "stream",
     "text": [
      "True\n"
     ]
    }
   ],
   "source": [
    "def V_0():\n",
    "    qml.CNOT((0, 1))\n",
    "    qml.CNOT((1, 2))\n",
    "    qml.Hadamard(0)\n",
    "    \n",
    "dev = qml.device(\"default.qubit\")\n",
    "\n",
    "@qml.qnode(dev)\n",
    "def local_inversion():\n",
    "    U_test()   # some shallow unitary circuit\n",
    "    V_0()      # supposed to disentangle qubit 0\n",
    "    return qml.density_matrix(wires=[0])\n",
    "\n",
    "print(jnp.allclose(local_inversion(), jnp.array([[1., 0.], [0., 0.]])))"
   ]
  },
  {
   "cell_type": "markdown",
   "metadata": {},
   "source": [
    "After performing $U^\\text{test}$ and the inversion of qubit $0$, $V_0$,\n",
    "we find the reduced state $|0 \\rangle \\langle 0|$ on the correct qubit.\n",
    "\n",
    "Local inversions are not unique and finding one is easier than finding\n",
    "global inversions. But constructing a global inversion from all possible\n",
    "local inversions is highly non-trivial (as it constitutes a variant of\n",
    "the [quantum marginal problem](https://arxiv.org/abs/1404.1085)).\n",
    "However, the circuit sewing technique introduced in lets us circumvent\n",
    "that problem and construct a global inversion from just a single local\n",
    "inversion per qubit.\n",
    "\n",
    "To do that, we construct the other local inversions in the same way as\n",
    "before by just following back the light-cones of the respective qubits.\n",
    "In general these would have to be learned, more on that later. Here we\n",
    "just reverse-engineer them from knowing $U^\\text{test}$.\n"
   ]
  },
  {
   "cell_type": "code",
   "execution_count": 5,
   "metadata": {
    "collapsed": false,
    "jupyter": {
     "outputs_hidden": false
    }
   },
   "outputs": [],
   "source": [
    "#def V_1():\n",
    "#    qml.CNOT((0, 1))\n",
    "#    qml.CNOT((1, 2))\n",
    "#    qml.Hadamard(1)\n",
    "\n",
    "#def V_2():\n",
    "#    qml.CNOT((2, 3))\n",
    "#    qml.CNOT((1, 2))\n",
    "#    qml.Hadamard(2)\n",
    "\n",
    "#def V_3():\n",
    "#    qml.CNOT((2, 3))\n",
    "#    qml.CNOT((1, 2))\n",
    "#    qml.Hadamard(3)\n",
    "\n",
    "def V(i):\n",
    "    qml.CNOT((i//2*2, i//2*2+1))\n",
    "    qml.CNOT((1, 2))\n",
    "    qml.Hadamard(i)"
   ]
  },
  {
   "cell_type": "markdown",
   "metadata": {},
   "source": [
    "Circuit Sewing\n",
    "--------------\n",
    "\n",
    "So how does knowing local inversions $\\{V_0, V_1, V_2, V_3\\}$ help us\n",
    "with solving the original goal of finding a global inversion\n",
    "$U V = \\mathbb{1}$? The authors introduce a clever trick that they coin\n",
    "[circuit sewing]{.title-ref}. It works by swapping out the decoupled\n",
    "qubit with an ancilla register and restoring (\\\"repairing\\\") the unitary\n",
    "on the remaining wires. Let us walk through this process step by step.\n",
    "\n",
    "We already saw how to decouple qubit $0$ in `local_inversion()` above.\n",
    "We continue by swapping out the decoupled wire with an ancilla qubit and\n",
    "\\\"repairing\\\" the circuit by applying $V^\\dagger_0$. (This is called\n",
    "\\\"repairing\\\" because $V_1$ can now decouple qubit 1, which would not be\n",
    "possible in general without that step.) We label all ancilla wires by\n",
    "`[n + 0, n + 1, .. 2n-1]` to have an easy 1-to-1 correspondence and we\n",
    "see that qubit `1` is successfully decoupled. For completeness, we also\n",
    "check that the swapped out qubit (now moved to wire `n + 0`) is\n",
    "decoupled still.\n"
   ]
  },
  {
   "cell_type": "code",
   "execution_count": 6,
   "metadata": {
    "collapsed": false,
    "jupyter": {
     "outputs_hidden": false
    }
   },
   "outputs": [
    {
     "data": {
      "image/png": "[encoded data removed]",
      "text/plain": [
       "<Figure size 1800x600 with 1 Axes>"
      ]
     },
     "metadata": {},
     "output_type": "display_data"
    },
    {
     "name": "stdout",
     "output_type": "stream",
     "text": [
      "Sewing qubit 1\n",
      "rho_1 = |0⟩⟨0| True\n",
      "rho_0+n = |0⟩⟨0| True\n"
     ]
    }
   ],
   "source": [
    "from functools import partial\n",
    "\n",
    "@qml.qnode(dev)\n",
    "def sewing_1():\n",
    "    U_test()              # some shallow unitary circuit\n",
    "    qml.Barrier()\n",
    "    V(0)                 # disentangle qubit 0\n",
    "    qml.Barrier()\n",
    "    qml.SWAP((0, n))      # swap out disentangled qubit 0 and n+0\n",
    "    qml.Barrier()\n",
    "    qml.adjoint(partial(V, 0))()    # repair circuit from V_0\n",
    "    qml.Barrier()\n",
    "    V(1)                 # disentangle qubit 1\n",
    "    return qml.density_matrix(wires=[1]), qml.density_matrix(wires=[n])\n",
    "\n",
    "# The Barriers are to see which part of the circuit corresponds to which gate\n",
    "qml.draw_mpl(sewing_1)()\n",
    "plt.show()\n",
    "\n",
    "r1, rn = sewing_1()\n",
    "print(f\"Sewing qubit 1\")\n",
    "print(f\"rho_1 = |0⟩⟨0| {jnp.allclose(r1, jnp.array([[1, 0], [0, 0]]))}\")\n",
    "print(f\"rho_0+n = |0⟩⟨0| {jnp.allclose(rn, jnp.array([[1, 0], [0, 0]]))}\")"
   ]
  },
  {
   "cell_type": "markdown",
   "metadata": {},
   "source": [
    "We can continue this process for all qubits. Let us be tedious and do\n",
    "all steps one by one.\n"
   ]
  },
  {
   "cell_type": "code",
   "execution_count": 7,
   "metadata": {
    "collapsed": false,
    "jupyter": {
     "outputs_hidden": false
    }
   },
   "outputs": [
    {
     "name": "stdout",
     "output_type": "stream",
     "text": [
      "Sewing qubit 2\n",
      "rho_2 = |0⟩⟨0| True\n",
      "rho_0+n = |0⟩⟨0| True\n",
      "rho_1+n = |0⟩⟨0| True\n"
     ]
    }
   ],
   "source": [
    "@qml.qnode(dev)\n",
    "def sewing_2():\n",
    "    U_test()              # some shallow unitary circuit\n",
    "    V(0)                 # disentangle qubit 0\n",
    "    qml.SWAP((0, n))      # swap out disentangled qubit 0 and n+0\n",
    "    qml.adjoint(partial(V, 0))()    # repair circuit from V_0\n",
    "    V(1)                 # disentangle qubit 1\n",
    "    qml.SWAP((1, n + 1))  # swap out disentangled qubit 1 to n+1\n",
    "    qml.adjoint(partial(V, 1))()    # repair circuit from V_1\n",
    "    V(2)                 # disentangle qubit 2\n",
    "    return qml.density_matrix(wires=[2]), qml.density_matrix(wires=[n]), qml.density_matrix(wires=[n + 1])\n",
    "\n",
    "r2, rn, rn1 = sewing_2()\n",
    "print(f\"Sewing qubit 2\")\n",
    "print(f\"rho_2 = |0⟩⟨0| {jnp.allclose(r2, jnp.array([[1, 0], [0, 0]]))}\")\n",
    "print(f\"rho_0+n = |0⟩⟨0| {jnp.allclose(rn, jnp.array([[1, 0], [0, 0]]))}\")\n",
    "print(f\"rho_1+n = |0⟩⟨0| {jnp.allclose(rn1, jnp.array([[1, 0], [0, 0]]))}\")"
   ]
  },
  {
   "cell_type": "markdown",
   "metadata": {},
   "source": [
    "We continue to show that the swapped out wires remain decoupled, as well\n",
    "as the qubit we are currently decoupling.\n"
   ]
  },
  {
   "cell_type": "code",
   "execution_count": 8,
   "metadata": {
    "collapsed": false,
    "jupyter": {
     "outputs_hidden": false
    }
   },
   "outputs": [
    {
     "name": "stdout",
     "output_type": "stream",
     "text": [
      "Sewing qubit 3\n",
      "rho_3 = |0⟩⟨0| True\n",
      "rho_0+n = |0⟩⟨0| True\n",
      "rho_1+n = |0⟩⟨0| True\n",
      "rho_2+n = |0⟩⟨0| True\n"
     ]
    }
   ],
   "source": [
    "@qml.qnode(dev)\n",
    "def sewing_3():\n",
    "    U_test()              # some shallow unitary circuit\n",
    "    V(0)                 # disentangle qubit 0\n",
    "    qml.SWAP((0, n))      # swap out disentangled qubit 0 and n+0\n",
    "    qml.adjoint(partial(V, 0))()    # repair circuit from V_0\n",
    "    V(1)                 # disentangle qubit 1\n",
    "    qml.SWAP((1, n + 1))  # swap out disentangled qubit 1 to n+1\n",
    "    qml.adjoint(partial(V, 1))()    # repair circuit from V_1\n",
    "    V(2)                 # disentangle qubit 2\n",
    "    qml.SWAP((2, n + 2))  # swap out disentangled qubit 2 to n+2\n",
    "    qml.adjoint(partial(V, 2))()    # repair circuit from V_2\n",
    "    V(3)                 # disentangle qubit 3\n",
    "    return qml.density_matrix(wires=[3]), qml.density_matrix(wires=[n]), qml.density_matrix(wires=[n + 1]), qml.density_matrix(wires=[n + 2])\n",
    "\n",
    "r3, rn, rn1, rn2 = sewing_3()\n",
    "print(f\"Sewing qubit 3\")\n",
    "print(f\"rho_3 = |0⟩⟨0| {jnp.allclose(r3, jnp.array([[1, 0], [0, 0]]))}\")\n",
    "print(f\"rho_0+n = |0⟩⟨0| {jnp.allclose(rn, jnp.array([[1, 0], [0, 0]]))}\")\n",
    "print(f\"rho_1+n = |0⟩⟨0| {jnp.allclose(rn1, jnp.array([[1, 0], [0, 0]]))}\")\n",
    "print(f\"rho_2+n = |0⟩⟨0| {jnp.allclose(rn2, jnp.array([[1, 0], [0, 0]]))}\")"
   ]
  },
  {
   "cell_type": "markdown",
   "metadata": {},
   "source": [
    "After one final swap and repair, we arrive at a state where all original\n",
    "qubits are decoupled. We just need to move them back to their original\n",
    "position with a global SWAP. But not just that, we also now know that,\n",
    "globally, the original $U^\\text{test}$ is inverted.\n"
   ]
  },
  {
   "cell_type": "code",
   "execution_count": 9,
   "metadata": {
    "collapsed": false,
    "jupyter": {
     "outputs_hidden": false
    }
   },
   "outputs": [
    {
     "data": {
      "text/plain": [
       "Array(True, dtype=bool)"
      ]
     },
     "execution_count": 9,
     "metadata": {},
     "output_type": "execute_result"
    }
   ],
   "source": [
    "@for_loop(0, n, 1)\n",
    "def loop_sewing(i):\n",
    "    V(i)                            # disentangle qubit i\n",
    "    qml.SWAP((i, n+i))              # swap out disentangled qubit i and n+i\n",
    "    qml.adjoint(partial(V, i))()    # repair circuit from V_i\n",
    "\n",
    "@for_loop(0, n, 1)\n",
    "def loop_swap(i):\n",
    "    qml.SWAP((i + n, i))            # swap back all decoupled wires to their original registers\n",
    "\n",
    "@qml.qnode(dev)\n",
    "def V_dagger_test():\n",
    "    U_test()                        # some shallow unitary circuit\n",
    "    loop_sewing()\n",
    "    loop_swap()\n",
    "    return qml.density_matrix([0, 1, 2, 3])\n",
    "\n",
    "psi0 = jnp.eye(2**4)[0]             # |0>^n\n",
    "jnp.allclose(V_dagger_test(), jnp.outer(psi0, psi0))"
   ]
  },
  {
   "cell_type": "markdown",
   "metadata": {},
   "source": [
    "Everything after `U_test()` in `V_dagger_test` constitutes\n",
    "$(V^\\text{sew})^\\dagger$.\n"
   ]
  },
  {
   "cell_type": "code",
   "execution_count": 10,
   "metadata": {
    "collapsed": false,
    "jupyter": {
     "outputs_hidden": false
    }
   },
   "outputs": [],
   "source": [
    "def V_dagger():\n",
    "    loop_sewing()\n",
    "    loop_swap()"
   ]
  },
  {
   "cell_type": "markdown",
   "metadata": {},
   "source": [
    "It is such that the action of $U^\\text{test}$ on\n",
    "$|0 \\rangle^{\\otimes n}$ is reverted when tracing out the ancilla\n",
    "qubits. From the paper we know that, in fact, the action of the sewn\n",
    "$V^\\text{sew}$ overall is\n",
    "\n",
    "$$V^\\text{sew} |0^{\\otimes 2n}\\rangle = U \\otimes U^\\dagger |0^{\\otimes 2n}\\rangle.$$\n",
    "\n",
    "$U$ acts on the first `n` qubits, whereas $U^\\dagger$ acts on the `n`\n",
    "ancilla qubits.\n"
   ]
  },
  {
   "cell_type": "markdown",
   "metadata": {},
   "source": [
    "Numerical Experiment\n",
    "--------------------\n",
    "\n",
    "The actual learning in this procedure happens in obtaining the local\n",
    "inversions $\\{V_0, V_1, V_2, V_3\\}$. The paper relies on existence\n",
    "proofs from gate synthesis and suggests brute-force searching via\n",
    "enumerate-and-test to find suitable $\\{V_i\\}$. The idea is to\n",
    "essentially take a big enough set of possible $\\{V_i\\}$ and post-select\n",
    "those that fulfill\n",
    "$||V^\\dagger_i U^\\dagger P_i U V_i - P_i|| < \\epsilon$ for\n",
    "$P_i \\in \\{X, Y, Z\\}$, which the authors show suffices as a criterium to\n",
    "have an approximate local inversion.\n",
    "\n",
    "Instead of doing that, let us here look at an explicit example by\n",
    "constructing a target unitary of some structure and a variational Ansatz\n",
    "for the local inversions that has a different structure. There are many\n",
    "ways to obtain local inversions, this is just one we find more\n",
    "convenient.\n",
    "\n",
    "First, let us construct the target unitary\n"
   ]
  },
  {
   "cell_type": "code",
   "execution_count": 11,
   "metadata": {
    "collapsed": false,
    "jupyter": {
     "outputs_hidden": false
    }
   },
   "outputs": [
    {
     "data": {
      "image/png": "[encoded data removed]",
      "text/plain": [
       "<Figure size 700x500 with 1 Axes>"
      ]
     },
     "metadata": {},
     "output_type": "display_data"
    }
   ],
   "source": [
    "import jax\n",
    "jax.config.update(\"jax_enable_x64\", True)\n",
    "jax.config.update(\"jax_platform_name\", \"cpu\")\n",
    "\n",
    "n = 4\n",
    "wires = range(n)\n",
    "U_params = jax.random.normal(jax.random.PRNGKey(0), shape=(2, n//2), dtype=float)\n",
    "\n",
    "def U_target(wires):\n",
    "\n",
    "    @for_loop(0, n, 1)\n",
    "    def loop_hadamard(i):\n",
    "        qml.Hadamard(i)\n",
    "\n",
    "    def loop_IsingXX(j, i):\n",
    "        qml.IsingXX(U_params[j, i], wires=(i, (i+1)%n))\n",
    "    \n",
    "    loop_hadamard()\n",
    "    # brick-wall ansatz\n",
    "    for_loop(0, n, 2)(partial(loop_IsingXX, 0))()\n",
    "    for_loop(1, n, 2)(partial(loop_IsingXX, 1))()\n",
    "\n",
    "qml.draw_mpl(U_target)(wires)\n",
    "plt.show()"
   ]
  },
  {
   "cell_type": "markdown",
   "metadata": {},
   "source": [
    "Putting on blindfolds and assuming we don\\'t know the circuit structure\n",
    "of $U^\\text{target}$, we set up a variational Ansatz for the local\n",
    "inversions $V_i$ with the following structure.\n"
   ]
  },
  {
   "cell_type": "code",
   "execution_count": 12,
   "metadata": {
    "collapsed": false,
    "jupyter": {
     "outputs_hidden": false
    }
   },
   "outputs": [
    {
     "data": {
      "image/png": "[encoded data removed]",
      "text/plain": [
       "<Figure size 1500x500 with 1 Axes>"
      ]
     },
     "metadata": {},
     "output_type": "display_data"
    }
   ],
   "source": [
    "n_layers = 2\n",
    "\n",
    "def V_i(params, wires):\n",
    "\n",
    "    def rx(ll, i):\n",
    "        qml.RX(params[1+ll, 0, i], i)\n",
    "        \n",
    "    def ry(ll, i):\n",
    "        qml.RY(params[1+ll, 1, i], i)\n",
    "        \n",
    "    def cnot(i):\n",
    "        qml.CNOT((i, (i+1)%n))   \n",
    "\n",
    "    @for_loop(0, n_layers, 1)\n",
    "    def loop_layers(ll):\n",
    "        for_loop(0, n, 2)(cnot)()\n",
    "        for_loop(1, n, 2)(cnot)()\n",
    "        for_loop(0, n, 1)(partial(rx, ll))()\n",
    "        for_loop(0, n, 1)(partial(ry, ll))()\n",
    "    \n",
    "    for_loop(0, n, 1)(partial(rx, -1))()\n",
    "    for_loop(0, n, 1)(partial(ry, -1))()\n",
    "    loop_layers()\n",
    "\n",
    "params = jax.random.normal(jax.random.PRNGKey(10), shape=(n_layers+1, 2, n), dtype=float)\n",
    "\n",
    "qml.draw_mpl(V_i)(params, wires)\n",
    "plt.show()"
   ]
  },
  {
   "cell_type": "markdown",
   "metadata": {},
   "source": [
    "Next, we are going to run optimizations for each $V_i$ to find a local\n",
    "inversion. For that we need some boilerplate code, see our\n",
    "`demo <tutorial_How_to_optimize_QML_model_using_JAX_and_Optax>`{.interpreted-text\n",
    "role=\"doc\"} on optimizing quantum circuits in jax.\n"
   ]
  },
  {
   "cell_type": "code",
   "execution_count": 13,
   "metadata": {
    "collapsed": false,
    "jupyter": {
     "outputs_hidden": false
    }
   },
   "outputs": [],
   "source": [
    "import optax\n",
    "from datetime import datetime\n",
    "from functools import partial\n",
    "\n",
    "X, Y, Z = qml.PauliX, qml.PauliY, qml.PauliZ\n",
    "\n",
    "def run_opt(cost, theta, i, n_epochs=100, lr=0.1, b1=0.9, b2=0.999):\n",
    "\n",
    "    optimizer = optax.adam(learning_rate=lr, b1=b1, b2=b2)\n",
    "    opt_state = optimizer.init(theta)\n",
    "\n",
    "    energy = jnp.zeros(n_epochs)\n",
    "    thetas = []\n",
    "\n",
    "    @qjit\n",
    "    def step(opt_state, theta):\n",
    "        val, grad_circuit = cost(theta, i), grad(cost)(theta, i)\n",
    "        updates, opt_state = optimizer.update(grad_circuit, opt_state)\n",
    "        theta = optax.apply_updates(theta, updates)\n",
    "\n",
    "        return opt_state, theta, val\n",
    "\n",
    "    t0 = datetime.now()\n",
    "    ## Optimization loop\n",
    "    for n in range(n_epochs):\n",
    "        opt_state, theta, val = step(opt_state, theta)\n",
    "\n",
    "        energy = energy.at[n].set(val)\n",
    "        thetas.append(\n",
    "            theta\n",
    "        )\n",
    "    t1 = datetime.now()\n",
    "    print(f\"final loss: {val}; min loss: {jnp.min(energy)}; after {t1 - t0}\")\n",
    "    \n",
    "    return thetas, energy\n",
    "\n",
    "## 2x wires for circuit sewing \n",
    "dev = qml.device(\"lightning.qubit\", wires=n*2)"
   ]
  },
  {
   "cell_type": "markdown",
   "metadata": {},
   "source": [
    "As a cost function, we perform state tomography after applying\n",
    "$U^\\text{target}$ and our Ansatz $V_i$. Our aim is to bring the state on\n",
    "qubit `i` back to the north pole of the Bloch sphere, and we specify our\n",
    "cost function accordingly.\n"
   ]
  },
  {
   "cell_type": "code",
   "execution_count": 14,
   "metadata": {
    "collapsed": false,
    "jupyter": {
     "outputs_hidden": false
    }
   },
   "outputs": [],
   "source": [
    "@qml.qnode(dev)\n",
    "def qnode_i(params, i):\n",
    "    U_target(wires)\n",
    "    V_i(params, wires)\n",
    "    return [qml.expval(P(i)) for P in [X, Y, Z]]\n",
    "    \n",
    "@qjit(static_argnums=1)\n",
    "def cost_i(params, i):\n",
    "    x, y, z = qnode_i(params, i)\n",
    "    return x**2 + y**2 + (1-z)**2"
   ]
  },
  {
   "cell_type": "markdown",
   "metadata": {},
   "source": [
    "We can now run the optimization. We see that in that case it suffices to\n",
    "use the random initial values from above for each optimization.\n"
   ]
  },
  {
   "cell_type": "code",
   "execution_count": 15,
   "metadata": {
    "collapsed": false,
    "jupyter": {
     "outputs_hidden": false
    }
   },
   "outputs": [
    {
     "name": "stdout",
     "output_type": "stream",
     "text": [
      "final loss: 4.168309870147671e-05; min loss: 4.168309870147671e-05; after 0:00:01.437279\n",
      "final loss: 4.426389047114445e-06; min loss: 4.426389047114445e-06; after 0:00:01.283048\n",
      "final loss: 7.119522980852351e-06; min loss: 6.622691688632588e-06; after 0:00:01.333761\n",
      "final loss: 3.795733855917371e-06; min loss: 3.4988574855745106e-06; after 0:00:01.393115\n"
     ]
    }
   ],
   "source": [
    "params_i = []\n",
    "for i in range(n):\n",
    "    thetas, _ = run_opt(cost_i, params, i)\n",
    "    params_i.append(thetas[-1])"
   ]
  },
  {
   "cell_type": "markdown",
   "metadata": {},
   "source": [
    "For consistency, we check the resulting coordinates of qubit `i` on the\n",
    "Bloch sphere.\n"
   ]
  },
  {
   "cell_type": "code",
   "execution_count": 16,
   "metadata": {
    "collapsed": false,
    "jupyter": {
     "outputs_hidden": false
    }
   },
   "outputs": [
    {
     "name": "stdout",
     "output_type": "stream",
     "text": [
      "Bloch sphere coordinates of qubit 0 after inversion: -0.00183, -0.00021 0.99393\n",
      "Bloch sphere coordinates of qubit 1 after inversion: -0.00016, 0.00015 0.99795\n",
      "Bloch sphere coordinates of qubit 2 after inversion: -0.00085, 0.00013 0.99753\n",
      "Bloch sphere coordinates of qubit 3 after inversion: 0.00062, 0.00044 0.99837\n"
     ]
    }
   ],
   "source": [
    "for i in range(n):\n",
    "    X_res, Y_res, Z_res = qnode_i(params_i[i], i)\n",
    "    print(f\"Bloch sphere coordinates of qubit {i} after inversion: {X_res:.5f}, {Y_res:.5f} {Z_res:.5f}\")"
   ]
  },
  {
   "cell_type": "markdown",
   "metadata": {},
   "source": [
    "We see that they are all approximately inverting the circuit as the\n",
    "resulting state is close to $|0\\rangle$ (associated with coordinates\n",
    "$(x, y, z) = (0, 0, 1)$). With these local inversions, we can sew\n",
    "together again a unitary that globally inverts the circuit.\n"
   ]
  },
  {
   "cell_type": "code",
   "execution_count": 17,
   "metadata": {
    "collapsed": false,
    "jupyter": {
     "outputs_hidden": false
    }
   },
   "outputs": [
    {
     "name": "stdout",
     "output_type": "stream",
     "text": [
      "True\n"
     ]
    }
   ],
   "source": [
    "def V_sew():\n",
    "    for i in range(n):\n",
    "        # local sewing: inversion, exchange, heal\n",
    "        V_i(params_i[i], range(n))\n",
    "        qml.SWAP((i, i+n))\n",
    "        qml.adjoint(V_i)(params_i[i], range(n))\n",
    "\n",
    "    # global SWAP\n",
    "    for i in range(n):\n",
    "        qml.SWAP((i, i+n))\n",
    "\n",
    "@qml.qnode(dev, interface=\"jax\")\n",
    "def sewing_test():\n",
    "    U_target(range(n))\n",
    "    V_sew()\n",
    "    return qml.density_matrix(range(4))\n",
    "\n",
    "print(jnp.allclose(sewing_test(), jnp.outer(psi0, psi0), atol=1e-1))"
   ]
  },
  {
   "cell_type": "markdown",
   "metadata": {},
   "source": [
    "The final test confirms that $V^\\text{sew}$ approximately inverts\n",
    "$U^\\text{target}$ on the system wires.\n",
    "\n",
    "Conclusion\n",
    "----------\n",
    "\n",
    "We saw how one can construct a global inversion from sewing together\n",
    "local inversions. This is a powerful new technique that may find\n",
    "applications in different domains of quantum computing. The technique\n",
    "cleverly circumvents the quantum marginal problem of constructing a\n",
    "global inversion from local ones compatible with each other.\n",
    "\n",
    "The authors use this technique to prove that constant depth quantum\n",
    "circuits are learnable (i.e. can be reconstructed) in a variety of\n",
    "different scenarios.\n",
    "\n",
    "::: {.note}\n",
    "::: {.title}\n",
    "Note\n",
    ":::\n",
    "\n",
    "We mainly focussed on the case of constructing $V^\\text{sew}$ such that\n",
    "$V^\\text{sew} U |0 \\rangle^{\\otimes n} = |0 \\rangle^{\\otimes n}$ as it\n",
    "already nicely captures the main technical method that is circuit\n",
    "sewing. This is different to learning the full unitary, i.e. $V$ such\n",
    "that $U V = 1$.\n",
    "\n",
    "For this, the circuit sewing works in the exact same way. The main\n",
    "difference is that the local inversions are now full inversions in the\n",
    "sense of $\\text{tr}_{\\neq 0}\\left[V_i U\\right] = \\mathbb{1}_i$ (whereas\n",
    "before we just had\n",
    "$V_i U |0 \\rangle^{\\otimes n} = |0 \\rangle^{\\otimes n}$, which is a\n",
    "simpler case). The authors show that a sufficient condition for full\n",
    "inversion is achieved by minimizing\n",
    "\n",
    "$$\\sum_{P\\in \\{X, Y, Z\\}} ||V^\\dagger_i U^\\dagger P_i U V_i - P_i ||.$$\n",
    "\n",
    "In the paper, the authors suggest to brute-force search the whole space\n",
    "of possible $V_i$ and post-select those for which the distance to $P_i$\n",
    "is small. The terms are evaluated by randomly sampling input (product)\n",
    "states $|\\phi_j\\rangle$ and computing expectation values of\n",
    "$\\langle \\phi_j | V^\\dagger_i U^\\dagger P_i U V_i |\\phi_j\\rangle$. In\n",
    "particular, samples for all possible candidates of $V_i$ are generated.\n",
    "Another possibility is to perform state tomography of the single qubit\n",
    "states and compare that with the input state. Either way, the circuit\n",
    "sewing after obtaining the learned local inversions is the same as\n",
    "described above.\n",
    ":::\n"
   ]
  }
 ],
 "metadata": {
  "kernelspec": {
   "display_name": "Python 3 (ipykernel)",
   "language": "python",
   "name": "python3"
  },
  "language_info": {
   "codemirror_mode": {
    "name": "ipython",
    "version": 3
   },
   "file_extension": ".py",
   "mimetype": "text/x-python",
   "name": "python",
   "nbconvert_exporter": "python",
   "pygments_lexer": "ipython3",
   "version": "3.10.12"
  }
 },
 "nbformat": 4,
 "nbformat_minor": 4
}
